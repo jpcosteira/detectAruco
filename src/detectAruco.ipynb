{
 "cells": [
  {
   "cell_type": "code",
   "execution_count": null,
   "id": "c0b97b36-d974-49ae-8c7f-d3d27d70a802",
   "metadata": {},
   "outputs": [],
   "source": [
    "import cv2\n",
    "import os\n",
    "import glob\n",
    "import matplotlib.pyplot as plt\n",
    "\n",
    "def detect_aruco_markers(image, aruco_dicts):\n",
    "    gray = cv2.cvtColor(image, cv2.COLOR_BGR2GRAY)\n",
    "    \n",
    "    detected_markers = {}\n",
    "    \n",
    "    for dict_name, aruco_dict in aruco_dicts.items():\n",
    "        aruco_params = cv2.aruco.DetectorParameters_create()\n",
    "        corners, ids, rejected = cv2.aruco.detectMarkers(gray, aruco_dict, parameters=aruco_params)\n",
    "        \n",
    "        if ids is not None:\n",
    "            detected_markers[dict_name] = (corners, ids.flatten().tolist())\n",
    "    \n",
    "    return detected_markers\n",
    "\n",
    "def scan_folder_for_images(input_folder):\n",
    "    image_files = []\n",
    "    for root, dirs, files in os.walk(input_folder):\n",
    "        for file in files:\n",
    "            if file.lower().endswith(('.png', '.jpg', '.jpeg', '.bmp', '.tiff')):\n",
    "                image_files.append(os.path.join(root, file))\n",
    "    return image_files\n",
    "\n",
    "def draw_markers(image, detected_markers):\n",
    "    for dict_name, (corners, ids) in detected_markers.items():\n",
    "        if ids is not None:\n",
    "            cv2.aruco.drawDetectedMarkers(image, corners, ids)\n",
    "            for i, corner in enumerate(corners):\n",
    "                corner = corner[0]\n",
    "                top_left = tuple(corner[0].astype(int))\n",
    "                bottom_right = tuple(corner[2].astype(int))\n",
    "                text = f'{dict_name}: {ids[i]}'\n",
    "                cv2.putText(image, text, top_left, cv2.FONT_HERSHEY_SIMPLEX, 0.5, (0, 255, 0), 2, cv2.LINE_AA)\n",
    "    return image\n",
    "\n",
    "def main(input_folder, output_folder):\n",
    "    aruco_dicts = {\n",
    "        'DICT_4X4_50': cv2.aruco.Dictionary_get(cv2.aruco.DICT_4X4_50),\n",
    "        'DICT_4X4_100': cv2.aruco.Dictionary_get(cv2.aruco.DICT_4X4_100),\n",
    "        'DICT_4X4_250': cv2.aruco.Dictionary_get(cv2.aruco.DICT_4X4_250),\n",
    "        'DICT_4X4_1000': cv2.aruco.Dictionary_get(cv2.aruco.DICT_4X4_1000),\n",
    "        'DICT_5X5_50': cv2.aruco.Dictionary_get(cv2.aruco.DICT_5X5_50),\n",
    "        'DICT_5X5_100': cv2.aruco.Dictionary_get(cv2.aruco.DICT_5X5_100),\n",
    "        'DICT_5X5_250': cv2.aruco.Dictionary_get(cv2.aruco.DICT_5X5_250),\n",
    "        'DICT_5X5_1000': cv2.aruco.Dictionary_get(cv2.aruco.DICT_5X5_1000),\n",
    "        'DICT_6X6_50': cv2.aruco.Dictionary_get(cv2.aruco.DICT_6X6_50),\n",
    "        'DICT_6X6_100': cv2.aruco.Dictionary_get(cv2.aruco.DICT_6X6_100),\n",
    "        'DICT_6X6_250': cv2.aruco.Dictionary_get(cv2.aruco.DICT_6X6_250),\n",
    "        'DICT_6X6_1000': cv2.aruco.Dictionary_get(cv2.aruco.DICT_6X6_1000),\n",
    "        'DICT_7X7_50': cv2.aruco.Dictionary_get(cv2.aruco.DICT_7X7_50),\n",
    "        'DICT_7X7_100': cv2.aruco.Dictionary_get(cv2.aruco.DICT_7X7_100),\n",
    "        'DICT_7X7_250': cv2.aruco.Dictionary_get(cv2.aruco.DICT_7X7_250),\n",
    "        'DICT_7X7_1000': cv2.aruco.Dictionary_get(cv2.aruco.DICT_7X7_1000),\n",
    "        'DICT_ARUCO_ORIGINAL': cv2.aruco.Dictionary_get(cv2.aruco.DICT_ARUCO_ORIGINAL),\n",
    "        'DICT_APRILTAG_16h5': cv2.aruco.Dictionary_get(cv2.aruco.DICT_APRILTAG_16h5),\n",
    "        'DICT_APRILTAG_25h9': cv2.aruco.Dictionary_get(cv2.aruco.DICT_APRILTAG_25h9),\n",
    "        'DICT_APRILTAG_36h10': cv2.aruco.Dictionary_get(cv2.aruco.DICT_APRILTAG_36h10),\n",
    "        'DICT_APRILTAG_36h11': cv2.aruco.Dictionary_get(cv2.aruco.DICT_APRILTAG_36h11),\n",
    "    }\n",
    "\n",
    "    image_files = scan_folder_for_images(input_folder)\n",
    "\n",
    "    results = {}\n",
    "\n",
    "    if not os.path.exists(output_folder):\n",
    "        os.makedirs(output_folder)\n",
    "\n",
    "    for image_file in image_files:\n",
    "        # print(f\"Processing {image_file}\")\n",
    "        image = cv2.imread(image_file)\n",
    "        detected_markers = detect_aruco_markers(image, aruco_dicts)\n",
    "        results[image_file] = detected_markers\n",
    "        \n",
    "#        annotated_image = draw_markers(image, detected_markers)\n",
    " #       \n",
    "#        output_path = os.path.join(output_folder, os.path.relpath(image_file, input_folder))\n",
    "#        os.makedirs(os.path.dirname(output_path), exist_ok=True)\n",
    "#        cv2.imwrite(output_path, annotated_image)\n",
    "    \n",
    "    return results, image_files"
   ]
  },
  {
   "cell_type": "code",
   "execution_count": null,
   "id": "e0a5898c-13c5-4a28-82c4-3fe47a69412f",
   "metadata": {},
   "outputs": [],
   "source": [
    "input_folder = '/home/vican/Dataset_Vican/cangalho/camera-images-cangalho/'\n",
    "output_folder = './output_folder'\n",
    "arucos,ims=main(input_folder,output_folder)"
   ]
  },
  {
   "cell_type": "markdown",
   "id": "81247628-e7a1-4ae3-b2a4-4c5f4e4fdb49",
   "metadata": {},
   "source": [
    "## Main for py script\n",
    "\n",
    "To paralelize use https://ipyparallel.readthedocs.io/en/latest/"
   ]
  },
  {
   "cell_type": "code",
   "execution_count": null,
   "id": "e5eafe7d-a182-4fe7-8ea0-104b1c4161f9",
   "metadata": {},
   "outputs": [],
   "source": [
    "if __name__ == \"__main__\":\n",
    "    input_folder = 'path_to_your_input_folder'\n",
    "    output_folder = 'path_to_your_output_folder'\n",
    "    results = main(input_folder, output_folder)\n",
    "    print(results)"
   ]
  },
  {
   "cell_type": "code",
   "execution_count": 57,
   "id": "24c29970-3d3d-477c-82e5-3d7acabd993c",
   "metadata": {},
   "outputs": [],
   "source": [
    "ims=list(arucos.keys())\n",
    "im0=arucos[ims[0]]"
   ]
  },
  {
   "cell_type": "code",
   "execution_count": 58,
   "id": "db6c0e6b-373a-4eeb-92ef-ec06736bba1e",
   "metadata": {},
   "outputs": [
    {
     "data": {
      "text/plain": [
       "dict_keys(['DICT_ARUCO_ORIGINAL'])"
      ]
     },
     "execution_count": 58,
     "metadata": {},
     "output_type": "execute_result"
    }
   ],
   "source": [
    "im0.keys()"
   ]
  },
  {
   "cell_type": "code",
   "execution_count": null,
   "id": "064e43c2-ae00-44a9-a519-458e9a87f620",
   "metadata": {},
   "outputs": [],
   "source": [
    "image_files = scan_folder_for_images(input_folder)"
   ]
  },
  {
   "cell_type": "code",
   "execution_count": null,
   "id": "80dafc67-db6a-4554-a8ce-34377b87a878",
   "metadata": {},
   "outputs": [],
   "source": [
    "image_files"
   ]
  },
  {
   "cell_type": "code",
   "execution_count": null,
   "id": "8bd9f2f0-f322-495d-91bd-8b4b26314e8a",
   "metadata": {},
   "outputs": [],
   "source": []
  }
 ],
 "metadata": {
  "kernelspec": {
   "display_name": "Python 3 (ipykernel)",
   "language": "python",
   "name": "python3"
  },
  "language_info": {
   "codemirror_mode": {
    "name": "ipython",
    "version": 3
   },
   "file_extension": ".py",
   "mimetype": "text/x-python",
   "name": "python",
   "nbconvert_exporter": "python",
   "pygments_lexer": "ipython3",
   "version": "3.10.12"
  }
 },
 "nbformat": 4,
 "nbformat_minor": 5
}
